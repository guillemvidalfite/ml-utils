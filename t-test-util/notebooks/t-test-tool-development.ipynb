{
 "cells": [
  {
   "cell_type": "markdown",
   "metadata": {},
   "source": [
    "### Imports"
   ]
  },
  {
   "cell_type": "code",
   "execution_count": 2,
   "metadata": {},
   "outputs": [],
   "source": [
    "import logging\n",
    "import argparse\n",
    "import sys\n",
    "import json\n",
    "import os\n",
    "import pandas as pd \n",
    "import time\n",
    "import numpy as np\n",
    "from datetime import datetime\n",
    "\n",
    "from scipy.stats import ttest_ind"
   ]
  },
  {
   "cell_type": "markdown",
   "metadata": {},
   "source": [
    "### Configuration"
   ]
  },
  {
   "cell_type": "code",
   "execution_count": null,
   "metadata": {},
   "outputs": [],
   "source": [
    "log_level = \"INFO\"\n",
    "report_files_directory = \"/Users/guillem/Data/Customers/Daimler/anomalies-analysis/tmp_datasets\"\n",
    "postgres_host = \"beckett.cvo.bigml.in\""
   ]
  },
  {
   "cell_type": "markdown",
   "metadata": {},
   "source": [
    "### Params"
   ]
  },
  {
   "cell_type": "code",
   "execution_count": null,
   "metadata": {},
   "outputs": [],
   "source": []
  },
  {
   "cell_type": "markdown",
   "metadata": {},
   "source": [
    "### Code"
   ]
  },
  {
   "cell_type": "code",
   "execution_count": 5,
   "metadata": {},
   "outputs": [],
   "source": [
    "baseline_scores = [['fingerprint1','0.51'], ['fingerprint2','0.52'], ['fingerprint3','0.53'], ['fingerprint4','0.54']]\n",
    "feature_scores = [['fingerprint1','0.61'], ['fingerprint2','0.62'], ['fingerprint3','0.63'], ['fingerprint4','0.64']]"
   ]
  },
  {
   "cell_type": "code",
   "execution_count": 6,
   "metadata": {},
   "outputs": [],
   "source": [
    "baseline_scores_dict = {\"scores\": [0.51,0.52, 0.53, 0.54, 0.55, 0.56], \n",
    "                        \"fingerprints\": [\"fingerprint1\", \"fingerprint2\", \"fingerprint3\", \"fingerprint4\", \"fingerprint5\", \"fingerprint6\"]}\n",
    "\n",
    "current_scores_dict = {\"scores\": [0.51,0.52, 0.54, 0.56], \n",
    "                        \"fingerprints\": [\"fingerprint1\", \"fingerprint2\", \"fingerprint4\", \"fingerprint6\"]}"
   ]
  },
  {
   "cell_type": "code",
   "execution_count": 7,
   "metadata": {},
   "outputs": [
    {
     "name": "stdout",
     "output_type": "stream",
     "text": [
      "['fingerprint3', 'fingerprint5']\n"
     ]
    }
   ],
   "source": [
    "# copy baseline scores into a new list (in case it needs to be manipulated)\n",
    "baseline_scores = baseline_scores_dict[\"scores\"][:]\n",
    "\n",
    "missing_fingerprints = np.setdiff1d(baseline_scores_dict[\"fingerprints\"],current_scores_dict[\"fingerprints\"]).tolist()\n",
    "\n",
    "print(missing_fingerprints)"
   ]
  },
  {
   "cell_type": "code",
   "execution_count": 24,
   "metadata": {},
   "outputs": [
    {
     "name": "stdout",
     "output_type": "stream",
     "text": [
      "[4, 2]\n"
     ]
    }
   ],
   "source": [
    "missing_scores_indexes = []\n",
    "# for all missing fingerprints append corresponding index\n",
    "for i in range(len(missing_fingerprints)):\n",
    "    missing_scores_indexes.append(baseline_scores_dict[\"fingerprints\"].index(missing_fingerprints[i]))\n",
    "\n",
    "# sort missing scores indexes descending so we can start deleting elements from the back\n",
    "missing_scores_indexes.sort(reverse=True)\n",
    "print(missing_scores_indexes)"
   ]
  },
  {
   "cell_type": "code",
   "execution_count": 25,
   "metadata": {},
   "outputs": [
    {
     "name": "stdout",
     "output_type": "stream",
     "text": [
      "[0.51, 0.52, 0.54, 0.56]\n"
     ]
    }
   ],
   "source": [
    "for i in missing_scores_indexes:\n",
    "    del baseline_scores[i]\n",
    "\n",
    "print(baseline_scores)"
   ]
  },
  {
   "cell_type": "code",
   "execution_count": null,
   "metadata": {},
   "outputs": [],
   "source": []
  },
  {
   "cell_type": "code",
   "execution_count": null,
   "metadata": {},
   "outputs": [],
   "source": []
  },
  {
   "cell_type": "code",
   "execution_count": null,
   "metadata": {},
   "outputs": [],
   "source": []
  },
  {
   "cell_type": "code",
   "execution_count": null,
   "metadata": {},
   "outputs": [],
   "source": []
  },
  {
   "cell_type": "code",
   "execution_count": null,
   "metadata": {},
   "outputs": [],
   "source": []
  },
  {
   "cell_type": "code",
   "execution_count": null,
   "metadata": {},
   "outputs": [],
   "source": []
  },
  {
   "cell_type": "code",
   "execution_count": null,
   "metadata": {},
   "outputs": [],
   "source": []
  },
  {
   "cell_type": "code",
   "execution_count": null,
   "metadata": {},
   "outputs": [],
   "source": []
  },
  {
   "cell_type": "code",
   "execution_count": null,
   "metadata": {},
   "outputs": [],
   "source": []
  }
 ],
 "metadata": {
  "kernelspec": {
   "display_name": "Python 3",
   "language": "python",
   "name": "python3"
  },
  "language_info": {
   "codemirror_mode": {
    "name": "ipython",
    "version": 3
   },
   "file_extension": ".py",
   "mimetype": "text/x-python",
   "name": "python",
   "nbconvert_exporter": "python",
   "pygments_lexer": "ipython3",
   "version": "3.7.5"
  }
 },
 "nbformat": 4,
 "nbformat_minor": 2
}
